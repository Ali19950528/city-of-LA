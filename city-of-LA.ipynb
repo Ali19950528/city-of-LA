{
 "cells": [
  {
   "cell_type": "markdown",
   "metadata": {},
   "source": [
    "https://www.kaggle.com/c/data-science-for-good-city-of-los-angeles\n",
    "\n",
    "Data Science for Good: City of Los Angeles\n",
    "\n",
    "Help the City of Los Angeles to structure and analyze its job descriptions\n",
    "\n",
    "The City of Los Angeles faces a big hiring challenge: 1/3 of its 50,000 workers are eligible to retire by July of 2020. The city has partnered with Kaggle to create a competition to improve the job bulletins that will fill all those open positions.\n",
    "Problem Statement\n",
    "\n",
    "The content, tone, and format of job bulletins can influence the quality of the applicant pool. Overly-specific job requirements may discourage diversity. The Los Angeles Mayor’s Office wants to reimagine the city’s job bulletins by using text analysis to identify needed improvements.\n",
    "\n",
    "The goal is to convert a folder full of plain-text job postings into a single structured CSV file and then to use this data to: (1) identify language that can negatively bias the pool of applicants; (2) improve the diversity and quality of the applicant pool; and/or (3) make it easier to determine which promotions are available to employees in each job class."
   ]
  },
  {
   "cell_type": "code",
   "execution_count": 1,
   "metadata": {
    "_cell_guid": "b1076dfc-b9ad-4769-8c92-a6c4dae69d19",
    "_kg_hide-input": true,
    "_kg_hide-output": false,
    "_uuid": "8f2839f25d086af736a60e9eeb907d3b93b6e0e5",
    "execution": {
     "iopub.execute_input": "2021-12-11T23:59:42.834469Z",
     "iopub.status.busy": "2021-12-11T23:59:42.834050Z",
     "iopub.status.idle": "2021-12-11T23:59:43.184606Z",
     "shell.execute_reply": "2021-12-11T23:59:43.184042Z",
     "shell.execute_reply.started": "2021-12-11T23:59:42.834375Z"
    }
   },
   "outputs": [],
   "source": [
    "\n",
    "\n",
    "import numpy as np \n",
    "import pandas as pd \n",
    "\n",
    "\n",
    "import os\n",
    "for dirname, _, filenames in os.walk('/kaggle/input'):\n",
    "    for filename in filenames:\n",
    "        print(os.path.join(dirname, filename))\n",
    "\n"
   ]
  },
  {
   "cell_type": "code",
   "execution_count": 2,
   "metadata": {
    "execution": {
     "iopub.execute_input": "2021-12-12T00:00:07.394885Z",
     "iopub.status.busy": "2021-12-12T00:00:07.394559Z",
     "iopub.status.idle": "2021-12-12T00:00:09.398984Z",
     "shell.execute_reply": "2021-12-12T00:00:09.398045Z",
     "shell.execute_reply.started": "2021-12-12T00:00:07.394854Z"
    }
   },
   "outputs": [],
   "source": [
    "import glob\n",
    "def job_to_df(\n",
    "path='../input/data-science-for-good-city-of-los-angeles/cityofla/CityofLA/Job Bulletins/*.txt',\n",
    "col_name='raw_job_text'):\n",
    "    list_job = []\n",
    "    \n",
    "    files = glob.glob(path)\n",
    "    for file in files:\n",
    "      \n",
    "        with open(file,'r',errors='replace') as f:\n",
    "            content=f.read()\n",
    "            list_job.append(content)\n",
    "    else:\n",
    "        return pd.DataFrame({col_name:list_job})\n",
    "job_to_df()"
   ]
  },
  {
   "cell_type": "code",
   "execution_count": 3,
   "metadata": {
    "execution": {
     "iopub.execute_input": "2021-12-12T00:00:15.772389Z",
     "iopub.status.busy": "2021-12-12T00:00:15.772092Z",
     "iopub.status.idle": "2021-12-12T00:00:15.779813Z",
     "shell.execute_reply": "2021-12-12T00:00:15.778925Z",
     "shell.execute_reply.started": "2021-12-12T00:00:15.772360Z"
    }
   },
   "outputs": [],
   "source": [
    "def cleaned_text(text):\n",
    "    return text.replace(\"\\n\",\"\").replace(\"\\t\",\"\").strip()\n",
    "text='''\n",
    "line1\n",
    "line2   line2.1\n",
    "'  test '\n",
    "'''\n",
    "cleaned_text(text)"
   ]
  },
  {
   "cell_type": "code",
   "execution_count": 4,
   "metadata": {
    "_kg_hide-output": false,
    "execution": {
     "iopub.execute_input": "2021-12-12T00:00:18.969291Z",
     "iopub.status.busy": "2021-12-12T00:00:18.968204Z",
     "iopub.status.idle": "2021-12-12T00:00:19.296393Z",
     "shell.execute_reply": "2021-12-12T00:00:19.295485Z",
     "shell.execute_reply.started": "2021-12-12T00:00:18.969248Z"
    }
   },
   "outputs": [],
   "source": [
    "def preprocessing(dataframe):\n",
    "\n",
    "    dataframe['raw_job_text'] = dataframe['raw_job_text'].apply(\n",
    "        lambda x: x.lstrip())\n",
    "    return dataframe\n",
    "preprocessing(job_to_df())"
   ]
  },
  {
   "cell_type": "code",
   "execution_count": 5,
   "metadata": {
    "execution": {
     "iopub.execute_input": "2021-12-12T00:00:26.237299Z",
     "iopub.status.busy": "2021-12-12T00:00:26.236446Z",
     "iopub.status.idle": "2021-12-12T00:00:26.587596Z",
     "shell.execute_reply": "2021-12-12T00:00:26.586594Z",
     "shell.execute_reply.started": "2021-12-12T00:00:26.237259Z"
    }
   },
   "outputs": [],
   "source": [
    "\n",
    "def job_title(dataframe):\n",
    "    \n",
    "    dataframe['JOB_CLASS_TITLE'] = dataframe['raw_job_text'].apply(\n",
    "        lambda x: x.split('\\n', 1)[0])\n",
    "    dataframe['JOB_CLASS_TITLE'] = dataframe['JOB_CLASS_TITLE'].apply(\n",
    "        lambda x: cleaned_text(x))\n",
    "    return dataframe\n",
    "job_title(job_to_df())"
   ]
  },
  {
   "cell_type": "code",
   "execution_count": 7,
   "metadata": {
    "execution": {
     "iopub.execute_input": "2021-12-12T00:01:07.536738Z",
     "iopub.status.busy": "2021-12-12T00:01:07.536448Z",
     "iopub.status.idle": "2021-12-12T00:01:07.544981Z",
     "shell.execute_reply": "2021-12-12T00:01:07.544058Z",
     "shell.execute_reply.started": "2021-12-12T00:01:07.536710Z"
    }
   },
   "outputs": [],
   "source": [
    "import re\n",
    "def job_class_code(text):\n",
    "    \"\"\"\n",
    "    This class extract job class code\n",
    "    \"\"\"\n",
    "    match = re.search('Class Code: (\\d+)', text)\n",
    "    class_code = None\n",
    "    try:\n",
    "        class_code = match.group(1)\n",
    "    except:\n",
    "        class_code = None\n",
    "    return class_code\n",
    "job_class_code(text='Class Code: 1234')"
   ]
  },
  {
   "cell_type": "code",
   "execution_count": 8,
   "metadata": {
    "execution": {
     "iopub.execute_input": "2021-12-12T00:01:08.634811Z",
     "iopub.status.busy": "2021-12-12T00:01:08.634516Z",
     "iopub.status.idle": "2021-12-12T00:01:09.216065Z",
     "shell.execute_reply": "2021-12-12T00:01:09.215082Z",
     "shell.execute_reply.started": "2021-12-12T00:01:08.634783Z"
    }
   },
   "outputs": [],
   "source": [
    "def class_code(dataframe):\n",
    "    \n",
    "    temp = dataframe['raw_job_text'].apply(lambda x: ' '.join(x.split()))\n",
    "   \n",
    "    dataframe['JOB_CLASS_NO'] = temp.apply(lambda x: job_class_code(x))\n",
    "    return dataframe\n",
    "class_code(job_to_df())"
   ]
  },
  {
   "cell_type": "code",
   "execution_count": 9,
   "metadata": {
    "execution": {
     "iopub.execute_input": "2021-12-12T00:01:10.702812Z",
     "iopub.status.busy": "2021-12-12T00:01:10.702530Z",
     "iopub.status.idle": "2021-12-12T00:01:10.709817Z",
     "shell.execute_reply": "2021-12-12T00:01:10.708387Z",
     "shell.execute_reply.started": "2021-12-12T00:01:10.702785Z"
    }
   },
   "outputs": [],
   "source": [
    "def exam_type(text):\n",
    "    \n",
    "    \"\"\"\n",
    "    Extract entire exam type section\n",
    "    \"\"\"\n",
    "    \n",
    "    et = \"\"\n",
    "\n",
    "    result= re.search(\n",
    "        \"(Class Code:|Class  Code:)(.*)(ANNUAL SALARY|ANNUALSALARY)\",\n",
    "        text)\n",
    "    \n",
    "    shortContent=''\n",
    "    if result:\n",
    "        shortContent=result.group(2).strip()\n",
    "        result= re.search(\n",
    "            \"\\(+(.*?)\\)\", shortContent,flags=re.IGNORECASE)\n",
    "        if result:\n",
    "            \n",
    "            et=result.group(1).strip()\n",
    "    return et"
   ]
  },
  {
   "cell_type": "code",
   "execution_count": 10,
   "metadata": {
    "execution": {
     "iopub.execute_input": "2021-12-12T00:01:12.337554Z",
     "iopub.status.busy": "2021-12-12T00:01:12.337226Z",
     "iopub.status.idle": "2021-12-12T00:01:13.183317Z",
     "shell.execute_reply": "2021-12-12T00:01:13.182574Z",
     "shell.execute_reply.started": "2021-12-12T00:01:12.337521Z"
    }
   },
   "outputs": [],
   "source": [
    "def exam_type_extraction(dataframe):\n",
    "    \n",
    "    temp = dataframe['raw_job_text'].apply(lambda x: ' '.join(x.split()))\n",
    "    \n",
    "    dataframe['TEMP_EXAM_TYPE'] = temp.apply(lambda x: exam_type(x))\n",
    "    return dataframe\n",
    "exam_type_extraction(job_to_df())"
   ]
  },
  {
   "cell_type": "code",
   "execution_count": 11,
   "metadata": {
    "execution": {
     "iopub.execute_input": "2021-12-12T00:01:15.822143Z",
     "iopub.status.busy": "2021-12-12T00:01:15.821590Z",
     "iopub.status.idle": "2021-12-12T00:01:15.834981Z",
     "shell.execute_reply": "2021-12-12T00:01:15.833770Z",
     "shell.execute_reply.started": "2021-12-12T00:01:15.822107Z"
    }
   },
   "outputs": [],
   "source": [
    "def salary(text):\n",
    "   \n",
    "    ss = ''\n",
    "    salary_notes = ''\n",
    "    result=re.search(\n",
    "        \"(ANNUAL SALARY|ANNUALSALARY)(.*?)DUTIES\", text)\n",
    "    if result:\n",
    "        salContent= result.group(2).strip()\n",
    "        if \"NOTE:\" in salContent or \"NOTES:\" in salContent:\n",
    "           \n",
    "            result=re.search(\n",
    "                \"(.*?)(NOTE:|NOTES:)\",\n",
    "                salContent,flags=re.IGNORECASE)\n",
    "            if result:\n",
    "                s=result.group(1).strip()  \n",
    "           \n",
    "            result= re.search(\n",
    "                \"(NOTE:|NOTES:)(.*)\",\n",
    "                salContent,flags=re.IGNORECASE)\n",
    "            if result:\n",
    "                salary_notes= result.group(2).strip()\n",
    "        else:\n",
    "            s = salContent\n",
    "    else:\n",
    "        \n",
    "        result=re.search(\n",
    "            \"(ANNUAL SALARY|ANNUALSALARY)(.*?)REQUIREMENT\",\n",
    "            text,flags=re.IGNORECASE)\n",
    "        if result:\n",
    "            salContent= result.group(2).strip()\n",
    "            if \"NOTE:\" in salContent or \"NOTES:\" in salContent:\n",
    "                \n",
    "                result=re.search(\n",
    "                    \"(.*?)(NOTE:|NOTES:)\",\n",
    "                    salContent,flags=re.IGNORECASE)\n",
    "                if result:\n",
    "                    s=result.group(1).strip()\n",
    "                \n",
    "                result= re.search(\n",
    "                    \"(NOTE:|NOTES:)(.*)\",\n",
    "                    salContent,flags=re.IGNORECASE)\n",
    "                if result:\n",
    "                    salary_notes= result.group(2).strip()\n",
    "            else:\n",
    "                s= salContent\n",
    "    salary_text = \"|||||||||||||||\".join([s, salary_notes])\n",
    "    return salary_text"
   ]
  },
  {
   "cell_type": "code",
   "execution_count": 12,
   "metadata": {
    "execution": {
     "iopub.execute_input": "2021-12-12T00:01:18.007778Z",
     "iopub.status.busy": "2021-12-12T00:01:18.006944Z",
     "iopub.status.idle": "2021-12-12T00:01:18.481045Z",
     "shell.execute_reply": "2021-12-12T00:01:18.480136Z",
     "shell.execute_reply.started": "2021-12-12T00:01:18.007732Z"
    }
   },
   "outputs": [],
   "source": [
    "def salary_extraction(dataframe):\n",
    "    \n",
    "    temp = dataframe['raw_job_text'].apply(lambda x: ' '.join(x.split()))\n",
    "    \n",
    "    dataframe['TEMP_SALARY'] = temp.apply(lambda x: salary(x))\n",
    "    return dataframe\n",
    "salary_extractionsalary_extraction(job_to_df())"
   ]
  },
  {
   "cell_type": "code",
   "execution_count": 13,
   "metadata": {
    "execution": {
     "iopub.execute_input": "2021-12-12T00:01:22.576476Z",
     "iopub.status.busy": "2021-12-12T00:01:22.576142Z",
     "iopub.status.idle": "2021-12-12T00:01:22.582270Z",
     "shell.execute_reply": "2021-12-12T00:01:22.581346Z",
     "shell.execute_reply.started": "2021-12-12T00:01:22.576446Z"
    }
   },
   "outputs": [],
   "source": [
    "def duties(text):\n",
    "    \"\"\"\n",
    "    Extract job duties section\n",
    "    \"\"\"\n",
    "    '''\n",
    "    DUTIES A Pipefitter does skilled work in the installation, replacement, maintenance, and repair of industrial steam, oil,\n",
    "    air, gas, water, steam heating and other pipe systems, including high pressure and high temperature systems. \n",
    "    REQUIREMENT\n",
    "    '''\n",
    "    d=''\n",
    "    result=duties= re.search(\"DUTIES(.*?)REQUIREMENT\", text)\n",
    "    if result:\n",
    "        duties= result.group(1).strip()\n",
    "    return d"
   ]
  },
  {
   "cell_type": "code",
   "execution_count": 14,
   "metadata": {
    "execution": {
     "iopub.execute_input": "2021-12-12T00:01:25.188304Z",
     "iopub.status.busy": "2021-12-12T00:01:25.187976Z",
     "iopub.status.idle": "2021-12-12T00:01:25.652004Z",
     "shell.execute_reply": "2021-12-12T00:01:25.650968Z",
     "shell.execute_reply.started": "2021-12-12T00:01:25.188269Z"
    }
   },
   "outputs": [],
   "source": [
    "def duty_extraction(dataframe):\n",
    "    # remove all extra white spaces\n",
    "    temp = dataframe['raw_job_text'].apply(lambda x: ' '.join(x.split()))\n",
    "    \n",
    "    dataframe['JOB_DUTIES'] = temp.apply(lambda x: duties(x))\n",
    "    return dataframe\n",
    "duty_extraction(job_to_df())"
   ]
  },
  {
   "cell_type": "code",
   "execution_count": 15,
   "metadata": {
    "execution": {
     "iopub.execute_input": "2021-12-12T00:01:27.842556Z",
     "iopub.status.busy": "2021-12-12T00:01:27.842259Z",
     "iopub.status.idle": "2021-12-12T00:01:27.849476Z",
     "shell.execute_reply": "2021-12-12T00:01:27.848471Z",
     "shell.execute_reply.started": "2021-12-12T00:01:27.842525Z"
    }
   },
   "outputs": [],
   "source": [
    "def requirements(text):\n",
    "   \n",
    "    req='|'.join([\"REQUIREMENT/MIMINUMUM QUALIFICATION\",\n",
    "                  \"REQUIREMENT/MINUMUM QUALIFICATION\",\n",
    "                  \"REQUIREMENT/MINIMUM QUALIFICATION\",\n",
    "                  \"REQUIREMENT/MINIMUM QUALIFICATIONS\",\n",
    "                  \"REQUIREMENT/ MINIMUM QUALIFICATION\",\n",
    "                  \"REQUIREMENTS/MINUMUM QUALIFICATIONS\",\n",
    "                  \"REQUIREMENTS/ MINIMUM QUALIFICATIONS\",\n",
    "                  \"REQUIREMENTS/MINIMUM QUALIFICATIONS\",\n",
    "                  \"REQUIREMENTS/MINIMUM REQUIREMENTS\",\n",
    "                  \"REQUIREMENTS/MINIMUM QUALIFCATIONS\",\n",
    "                  \"MINIMUM REQUIREMENTS:\",\n",
    "                  \"REQUIREMENTS\",\n",
    "                  \"REQUIREMENT\"])\n",
    "    \n",
    "    result= re.search(f\"({req})(.*)(WHERE TO APPLY|HOW TO APPLY)\", text)\n",
    "    requirements=''\n",
    "    if result:\n",
    "        requirements = result.group(2).strip()\n",
    "    return requirements"
   ]
  },
  {
   "cell_type": "code",
   "execution_count": 16,
   "metadata": {
    "execution": {
     "iopub.execute_input": "2021-12-12T00:01:29.686789Z",
     "iopub.status.busy": "2021-12-12T00:01:29.686298Z",
     "iopub.status.idle": "2021-12-12T00:01:30.501987Z",
     "shell.execute_reply": "2021-12-12T00:01:30.501071Z",
     "shell.execute_reply.started": "2021-12-12T00:01:29.686756Z"
    }
   },
   "outputs": [],
   "source": [
    "def requirement_extraction(dataframe):\n",
    "    # remove all extra white spaces\n",
    "    temp = dataframe['raw_job_text'].apply(lambda x: ' '.join(x.split()))\n",
    "    \n",
    "    dataframe['TEMP_REQUIREMENTS'] = temp.apply(lambda x: requirements(x))\n",
    "    return dataframe\n",
    "requirement_extraction(job_to_df())"
   ]
  },
  {
   "cell_type": "code",
   "execution_count": 17,
   "metadata": {
    "execution": {
     "iopub.execute_input": "2021-12-12T00:01:32.856365Z",
     "iopub.status.busy": "2021-12-12T00:01:32.856034Z",
     "iopub.status.idle": "2021-12-12T00:01:32.864367Z",
     "shell.execute_reply": "2021-12-12T00:01:32.863286Z",
     "shell.execute_reply.started": "2021-12-12T00:01:32.856335Z"
    }
   },
   "outputs": [],
   "source": [
    "def location(text):\n",
    "    \n",
    "    \"\"\"\n",
    "    Extract entire 'WHERE TO APPLY' section\n",
    "    \"\"\"\n",
    "    '''\n",
    "    WHERE TO APPLY Applications will only be accepted on-line. When you are viewing the on-line job bulletin of your choice, \n",
    "    simply scroll to the top of the page and select the \"Apply\" icon. On-line job bulletins are also available \n",
    "    at https://www.governmentjobs.com/careers/lacity. NOTE: Applicants are urged to apply early to ensure you have time to \n",
    "    resolve any technical issues you may encounter. APPLICATION DEADLINE\n",
    "    '''\n",
    "    \n",
    "    where_to_apply = ''\n",
    "    result= re.search(\n",
    "        \"(HOW TO APPLY|WHERE TO APPLY)(.*)(APPLICATION DEADLINE|APPLICATION PROCESS)\",\n",
    "        text)\n",
    "    if result:\n",
    "        where_to_apply= result.group(2).strip()\n",
    "    else:\n",
    "        '''\n",
    "        WHERE TO APPLY THE SELECTION PROCESS IS STARTED by faxing a letter stating your desire to apply for Police Specialist. The \n",
    "        ...to schedule the necessary steps. SELECTION PROCESS\n",
    "        '''\n",
    "        result= re.search(\n",
    "            \"(HOW TO APPLY|WHERE TO APPLY)(.*)(SELECTION PROCESS|SELELCTION PROCESS)\",\n",
    "            text)\n",
    "        if result:\n",
    "            where_to_apply= result.group(2).strip()\n",
    "    return where_to_apply"
   ]
  },
  {
   "cell_type": "code",
   "execution_count": 18,
   "metadata": {
    "execution": {
     "iopub.execute_input": "2021-12-12T00:01:34.634442Z",
     "iopub.status.busy": "2021-12-12T00:01:34.633771Z",
     "iopub.status.idle": "2021-12-12T00:01:35.437135Z",
     "shell.execute_reply": "2021-12-12T00:01:35.436552Z",
     "shell.execute_reply.started": "2021-12-12T00:01:34.634400Z"
    }
   },
   "outputs": [],
   "source": [
    "def location_extraction(dataframe):\n",
    "    # remove all extra white spaces\n",
    "    temp = dataframe['raw_job_text'].apply(lambda x: ' '.join(x.split()))\n",
    "    \n",
    "    dataframe['WHERE_TO_APPLY'] = temp.apply(lambda x: _where_to_apply(x))\n",
    "    return dataframe\n",
    "location_extraction(job_to_df())"
   ]
  },
  {
   "cell_type": "code",
   "execution_count": 19,
   "metadata": {
    "execution": {
     "iopub.execute_input": "2021-12-12T00:01:37.349820Z",
     "iopub.status.busy": "2021-12-12T00:01:37.349405Z",
     "iopub.status.idle": "2021-12-12T00:01:37.355621Z",
     "shell.execute_reply": "2021-12-12T00:01:37.354625Z",
     "shell.execute_reply.started": "2021-12-12T00:01:37.349791Z"
    }
   },
   "outputs": [],
   "source": [
    "def deadline(text):\n",
    "    \n",
    "    d=''\n",
    "    result= re.search(\n",
    "        \"(APPLICATION DEADLINE|APPLICATION PROCESS)(.*?)(SELECTION PROCESS|SELELCTION PROCESS)\",\n",
    "        text)\n",
    "    if result:\n",
    "        d= result.group(2).strip()\n",
    "    else:\n",
    "        \n",
    "        result= re.search(\n",
    "            \"(APPLICATION DEADLINE|APPLICATION PROCESS)(.*?)(Examination Weight:)\",\n",
    "            text)\n",
    "        if result:\n",
    "            d= result.group(2).strip()\n",
    "            \n",
    "    return d"
   ]
  },
  {
   "cell_type": "code",
   "execution_count": 20,
   "metadata": {
    "execution": {
     "iopub.execute_input": "2021-12-12T00:01:39.033744Z",
     "iopub.status.busy": "2021-12-12T00:01:39.033330Z",
     "iopub.status.idle": "2021-12-12T00:01:39.551350Z",
     "shell.execute_reply": "2021-12-12T00:01:39.550674Z",
     "shell.execute_reply.started": "2021-12-12T00:01:39.033715Z"
    }
   },
   "outputs": [],
   "source": [
    "def deadline_extraction(dataframe):\n",
    "    # remove all extra white spaces\n",
    "    temp = dataframe['raw_job_text'].apply(lambda x: ' '.join(x.split()))\n",
    "    \n",
    "    dataframe['DEADLINE'] = temp.apply(lambda x: deadline(x))\n",
    "    return dataframe\n",
    "deadline_extraction(job_to_df())"
   ]
  },
  {
   "cell_type": "code",
   "execution_count": 21,
   "metadata": {
    "execution": {
     "iopub.execute_input": "2021-12-12T00:01:41.690771Z",
     "iopub.status.busy": "2021-12-12T00:01:41.690173Z",
     "iopub.status.idle": "2021-12-12T00:01:41.696806Z",
     "shell.execute_reply": "2021-12-12T00:01:41.696102Z",
     "shell.execute_reply.started": "2021-12-12T00:01:41.690736Z"
    }
   },
   "outputs": [],
   "source": [
    "def selection_process(text):\n",
    "    \n",
    "    \"\"\"\n",
    "    Extract selectioin process section\n",
    "    \"\"\"\n",
    "    '''\n",
    "    SELECTION PROCESS Examination Weight: Multiple-Choice Test ...\n",
    "    time, and location of their interview (anticipated to be held in late March 2017). APPOINTMENT\n",
    "    '''\n",
    "    sp=''\n",
    "    result=sp= re.search(\n",
    "        \"(SELECTION PROCESS|Examination Weight:)(.*)(APPOINTMENT|APPOINTMENT IS SUBJECT TO:)\",\n",
    "        text)\n",
    "    if result:\n",
    "        sp= result.group(2).strip()\n",
    "    else:\n",
    "        '''\n",
    "        SELECTION PROCESS Examination Weight: Multiple-Choice Test ...\n",
    "        '''\n",
    "        result=sp= re.search(\n",
    "            \"(SELECTION PROCESS|Examination Weight:)(.*)\",\n",
    "            text)\n",
    "        if result:\n",
    "            sp= result.group(2).strip()\n",
    "            \n",
    "    return sp"
   ]
  },
  {
   "cell_type": "code",
   "execution_count": 22,
   "metadata": {
    "execution": {
     "iopub.execute_input": "2021-12-12T00:01:43.824809Z",
     "iopub.status.busy": "2021-12-12T00:01:43.824371Z",
     "iopub.status.idle": "2021-12-12T00:01:44.957373Z",
     "shell.execute_reply": "2021-12-12T00:01:44.956767Z",
     "shell.execute_reply.started": "2021-12-12T00:01:43.824778Z"
    }
   },
   "outputs": [],
   "source": [
    "def extract_selection_process(dataframe):\n",
    "    # remove all extra white spaces\n",
    "    temp = dataframe['raw_job_text'].apply(lambda x: ' '.join(x.split()))\n",
    "    \n",
    "    dataframe['SELECTION_PROCESS'] = temp.apply(lambda x: selection_process(x))\n",
    "    return dataframe\n",
    "extract_selection_process(job_to_df())"
   ]
  },
  {
   "cell_type": "code",
   "execution_count": 23,
   "metadata": {
    "execution": {
     "iopub.execute_input": "2021-12-12T00:01:47.453012Z",
     "iopub.status.busy": "2021-12-12T00:01:47.452731Z",
     "iopub.status.idle": "2021-12-12T00:01:47.460857Z",
     "shell.execute_reply": "2021-12-12T00:01:47.460077Z",
     "shell.execute_reply.started": "2021-12-12T00:01:47.452985Z"
    }
   },
   "outputs": [],
   "source": [
    "def OpenDate(text):\n",
    "    \n",
    "    \"\"\"\n",
    "    Extract entire job open date section\n",
    "    \"\"\"\n",
    "    '''\n",
    "    Class Code:       1590\n",
    "    Open Date:  06-01-18(Exam Open to Current City Employees)\n",
    "    ANNUAL SALARY\n",
    "    '''\n",
    "    open_date = ''\n",
    "    result= re.search(\n",
    "        \"(Class Code:|Class  Code:)(.*)(ANNUAL SALARY|ANNUALSALARY)\",\n",
    "        text)\n",
    "    \n",
    "    shortContent=''\n",
    "    if result:\n",
    "        shortContent=result.group(2).strip()\n",
    "        #Open Date:  06-01-18 REVISED\n",
    "        result= re.search(\n",
    "            \"Open Date:(.*)REVISED\",\n",
    "            shortContent,flags=re.IGNORECASE)\n",
    "        if result:\n",
    "            open_date=result.group(1).strip()\n",
    "        if open_date=='':\n",
    "            #Open Date:  06-01-18(Exam Open to Current City Employees)\n",
    "            result= re.search(\n",
    "                \"Open Date:(.*)\\(Exam\",\n",
    "                shortContent,flags=re.IGNORECASE)\n",
    "            if result:\n",
    "                open_date=result.group(1).strip()\n",
    "        if open_date=='':\n",
    "            #Open Date:  06-01-18\n",
    "            result= re.search(\n",
    "                \"Open Date:(.*)\",\n",
    "                shortContent,flags=re.IGNORECASE)\n",
    "            if result:\n",
    "                open_date=result.group(1).strip()\n",
    "    return open_date"
   ]
  },
  {
   "cell_type": "code",
   "execution_count": 24,
   "metadata": {
    "execution": {
     "iopub.execute_input": "2021-12-12T00:02:08.992682Z",
     "iopub.status.busy": "2021-12-12T00:02:08.991938Z",
     "iopub.status.idle": "2021-12-12T00:02:09.863301Z",
     "shell.execute_reply": "2021-12-12T00:02:09.862370Z",
     "shell.execute_reply.started": "2021-12-12T00:02:08.992645Z"
    }
   },
   "outputs": [],
   "source": [
    "def OpenDate_extraction(dataframe):\n",
    "    # remove all extra white spaces\n",
    "    temp = dataframe['raw_job_text'].apply(lambda x: ' '.join(x.split()))\n",
    "    \n",
    "    dataframe['OPEN_DATE'] = temp.apply(lambda x: OpenDate(x))\n",
    "    return dataframe\n",
    "OpenDate_extraction(job_to_df())"
   ]
  },
  {
   "cell_type": "code",
   "execution_count": 25,
   "metadata": {
    "execution": {
     "iopub.execute_input": "2021-12-12T00:02:13.503938Z",
     "iopub.status.busy": "2021-12-12T00:02:13.503669Z",
     "iopub.status.idle": "2021-12-12T00:02:17.022769Z",
     "shell.execute_reply": "2021-12-12T00:02:17.022042Z",
     "shell.execute_reply.started": "2021-12-12T00:02:13.503912Z"
    }
   },
   "outputs": [],
   "source": [
    "# first let's convert folder of raw text job bulletins\n",
    "# to pandas dataframe\n",
    "data = job_to_df()\n",
    "\n",
    "# do some initial text cleaning\n",
    "data = preprocessing(data)\n",
    "\n",
    "data = job_title(data) \n",
    "\n",
    "data = class_code(data) \n",
    "\n",
    "data = OpenDate_extraction(data) \n",
    "\n",
    "data = exam_type_extraction(data) \n",
    "\n",
    "data = salary_extraction(data) \n",
    "\n",
    "data = duty_extraction(data) \n",
    "\n",
    "data = requirement_extraction(data) \n",
    "\n",
    "data = location_extraction(data) \n",
    "\n",
    "data = deadline_extraction(data) \n",
    "\n",
    "data = extract_selection_process(data) "
   ]
  },
  {
   "cell_type": "code",
   "execution_count": 26,
   "metadata": {
    "execution": {
     "iopub.execute_input": "2021-12-12T00:02:17.025446Z",
     "iopub.status.busy": "2021-12-12T00:02:17.024508Z",
     "iopub.status.idle": "2021-12-12T00:02:17.049966Z",
     "shell.execute_reply": "2021-12-12T00:02:17.048948Z",
     "shell.execute_reply.started": "2021-12-12T00:02:17.025388Z"
    }
   },
   "outputs": [],
   "source": [
    "\n",
    "data['raw_clean_job_text'] = data['raw_job_text'].apply(\n",
    "    lambda x: cleaned_text(x))"
   ]
  },
  {
   "cell_type": "code",
   "execution_count": 27,
   "metadata": {
    "execution": {
     "iopub.execute_input": "2021-12-12T00:02:19.177494Z",
     "iopub.status.busy": "2021-12-12T00:02:19.177186Z",
     "iopub.status.idle": "2021-12-12T00:02:19.195733Z",
     "shell.execute_reply": "2021-12-12T00:02:19.194817Z",
     "shell.execute_reply.started": "2021-12-12T00:02:19.177466Z"
    }
   },
   "outputs": [],
   "source": [
    "\n",
    "data.head(2)"
   ]
  },
  {
   "cell_type": "code",
   "execution_count": 28,
   "metadata": {
    "execution": {
     "iopub.execute_input": "2021-12-12T00:02:24.458817Z",
     "iopub.status.busy": "2021-12-12T00:02:24.458301Z",
     "iopub.status.idle": "2021-12-12T00:02:24.477115Z",
     "shell.execute_reply": "2021-12-12T00:02:24.476223Z",
     "shell.execute_reply.started": "2021-12-12T00:02:24.458780Z"
    }
   },
   "outputs": [],
   "source": [
    "data.tail(2)"
   ]
  },
  {
   "cell_type": "code",
   "execution_count": 29,
   "metadata": {
    "execution": {
     "iopub.execute_input": "2021-12-12T00:02:29.834607Z",
     "iopub.status.busy": "2021-12-12T00:02:29.834312Z",
     "iopub.status.idle": "2021-12-12T00:02:29.840084Z",
     "shell.execute_reply": "2021-12-12T00:02:29.839337Z",
     "shell.execute_reply.started": "2021-12-12T00:02:29.834574Z"
    }
   },
   "outputs": [],
   "source": [
    "data.shape"
   ]
  },
  {
   "cell_type": "code",
   "execution_count": 30,
   "metadata": {
    "execution": {
     "iopub.execute_input": "2021-12-12T00:02:31.083145Z",
     "iopub.status.busy": "2021-12-12T00:02:31.082705Z",
     "iopub.status.idle": "2021-12-12T00:02:31.102532Z",
     "shell.execute_reply": "2021-12-12T00:02:31.101699Z",
     "shell.execute_reply.started": "2021-12-12T00:02:31.083113Z"
    }
   },
   "outputs": [],
   "source": [
    "def base_info(data):\n",
    "  print(f' Zero \\n:{data.isnull().sum()}\\n')\n",
    "  print(f'NaN :\\n {data.isna().sum()}\\n')\n",
    "  print(f\"type of data:\\n {data.dtypes}\\n\")\n",
    "base_info(data)"
   ]
  },
  {
   "cell_type": "code",
   "execution_count": 31,
   "metadata": {
    "execution": {
     "iopub.execute_input": "2021-12-12T00:02:32.900415Z",
     "iopub.status.busy": "2021-12-12T00:02:32.899821Z",
     "iopub.status.idle": "2021-12-12T00:02:32.924155Z",
     "shell.execute_reply": "2021-12-12T00:02:32.923497Z",
     "shell.execute_reply.started": "2021-12-12T00:02:32.900378Z"
    }
   },
   "outputs": [],
   "source": [
    "data.info(verbose=True)"
   ]
  },
  {
   "cell_type": "code",
   "execution_count": 32,
   "metadata": {
    "execution": {
     "iopub.execute_input": "2021-12-12T00:02:34.816744Z",
     "iopub.status.busy": "2021-12-12T00:02:34.815996Z",
     "iopub.status.idle": "2021-12-12T00:02:34.826463Z",
     "shell.execute_reply": "2021-12-12T00:02:34.825459Z",
     "shell.execute_reply.started": "2021-12-12T00:02:34.816707Z"
    }
   },
   "outputs": [],
   "source": [
    "data.info(verbose=False)"
   ]
  },
  {
   "cell_type": "code",
   "execution_count": 33,
   "metadata": {
    "execution": {
     "iopub.execute_input": "2021-12-12T00:02:37.115756Z",
     "iopub.status.busy": "2021-12-12T00:02:37.115420Z",
     "iopub.status.idle": "2021-12-12T00:02:37.126274Z",
     "shell.execute_reply": "2021-12-12T00:02:37.125305Z",
     "shell.execute_reply.started": "2021-12-12T00:02:37.115723Z"
    }
   },
   "outputs": [],
   "source": [
    "data['JOB_CLASS_NO'].describe()"
   ]
  },
  {
   "cell_type": "code",
   "execution_count": 34,
   "metadata": {
    "execution": {
     "iopub.execute_input": "2021-12-12T00:02:37.960698Z",
     "iopub.status.busy": "2021-12-12T00:02:37.960172Z",
     "iopub.status.idle": "2021-12-12T00:02:37.967834Z",
     "shell.execute_reply": "2021-12-12T00:02:37.966796Z",
     "shell.execute_reply.started": "2021-12-12T00:02:37.960646Z"
    }
   },
   "outputs": [],
   "source": [
    "print(data['JOB_CLASS_NO'].isnull().sum())\n",
    "print(data['JOB_CLASS_NO'].isna().sum())"
   ]
  },
  {
   "cell_type": "code",
   "execution_count": 35,
   "metadata": {
    "execution": {
     "iopub.execute_input": "2021-12-12T00:02:38.666501Z",
     "iopub.status.busy": "2021-12-12T00:02:38.666148Z",
     "iopub.status.idle": "2021-12-12T00:02:38.674224Z",
     "shell.execute_reply": "2021-12-12T00:02:38.673399Z",
     "shell.execute_reply.started": "2021-12-12T00:02:38.666464Z"
    }
   },
   "outputs": [],
   "source": [
    "data['JOB_CLASS_NO'].fillna(0, inplace=True)"
   ]
  },
  {
   "cell_type": "code",
   "execution_count": 36,
   "metadata": {
    "execution": {
     "iopub.execute_input": "2021-12-12T00:02:39.733398Z",
     "iopub.status.busy": "2021-12-12T00:02:39.732744Z",
     "iopub.status.idle": "2021-12-12T00:02:39.740008Z",
     "shell.execute_reply": "2021-12-12T00:02:39.739258Z",
     "shell.execute_reply.started": "2021-12-12T00:02:39.733345Z"
    }
   },
   "outputs": [],
   "source": [
    "data['JOB_CLASS_NO'] = data['JOB_CLASS_NO'].astype(str).astype(int)"
   ]
  },
  {
   "cell_type": "code",
   "execution_count": 37,
   "metadata": {
    "execution": {
     "iopub.execute_input": "2021-12-12T00:02:40.848819Z",
     "iopub.status.busy": "2021-12-12T00:02:40.848385Z",
     "iopub.status.idle": "2021-12-12T00:02:40.861868Z",
     "shell.execute_reply": "2021-12-12T00:02:40.861159Z",
     "shell.execute_reply.started": "2021-12-12T00:02:40.848787Z"
    }
   },
   "outputs": [],
   "source": [
    "data['JOB_CLASS_NO'].describe()"
   ]
  },
  {
   "cell_type": "code",
   "execution_count": 38,
   "metadata": {
    "execution": {
     "iopub.execute_input": "2021-12-12T00:02:41.427270Z",
     "iopub.status.busy": "2021-12-12T00:02:41.426790Z",
     "iopub.status.idle": "2021-12-12T00:02:41.431993Z",
     "shell.execute_reply": "2021-12-12T00:02:41.431337Z",
     "shell.execute_reply.started": "2021-12-12T00:02:41.427216Z"
    }
   },
   "outputs": [],
   "source": [
    "mas_pronouns =[\"he\", \"his\", \"him\", \"himself\"]\n",
    "fem_pronouns =[\"she\", \"her\", \"herself\"]"
   ]
  },
  {
   "cell_type": "code",
   "execution_count": 39,
   "metadata": {
    "execution": {
     "iopub.execute_input": "2021-12-12T00:02:41.809347Z",
     "iopub.status.busy": "2021-12-12T00:02:41.808719Z",
     "iopub.status.idle": "2021-12-12T00:02:41.825526Z",
     "shell.execute_reply": "2021-12-12T00:02:41.824606Z",
     "shell.execute_reply.started": "2021-12-12T00:02:41.809297Z"
    }
   },
   "outputs": [],
   "source": [
    "for i in mas_pronouns:\n",
    "    sum= data.TEMP_REQUIREMENTS.str.contains(r'i').sum() + data.SELECTION_PROCESS.str.contains(r'i').sum()\n",
    "    print(f'{i} : {sum}')"
   ]
  },
  {
   "cell_type": "code",
   "execution_count": 40,
   "metadata": {
    "execution": {
     "iopub.execute_input": "2021-12-12T00:02:42.187334Z",
     "iopub.status.busy": "2021-12-12T00:02:42.187005Z",
     "iopub.status.idle": "2021-12-12T00:02:42.203017Z",
     "shell.execute_reply": "2021-12-12T00:02:42.201675Z",
     "shell.execute_reply.started": "2021-12-12T00:02:42.187301Z"
    }
   },
   "outputs": [],
   "source": [
    "for i in fem_pronouns:\n",
    "    sum= data.TEMP_REQUIREMENTS.str.contains(r'i').sum() + data.SELECTION_PROCESS.str.contains(r'i').sum()\n",
    "    print(f'{i} : {sum}')"
   ]
  }
 ],
 "metadata": {
  "kernelspec": {
   "display_name": "Python 3",
   "language": "python",
   "name": "python3"
  },
  "language_info": {
   "codemirror_mode": {
    "name": "ipython",
    "version": 3
   },
   "file_extension": ".py",
   "mimetype": "text/x-python",
   "name": "python",
   "nbconvert_exporter": "python",
   "pygments_lexer": "ipython3",
   "version": "3.8.5"
  }
 },
 "nbformat": 4,
 "nbformat_minor": 4
}
